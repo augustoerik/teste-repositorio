{
  "nbformat": 4,
  "nbformat_minor": 0,
  "metadata": {
    "colab": {
      "provenance": [],
      "include_colab_link": true
    },
    "kernelspec": {
      "name": "python3",
      "display_name": "Python 3"
    },
    "language_info": {
      "name": "python"
    }
  },
  "cells": [
    {
      "cell_type": "markdown",
      "metadata": {
        "id": "view-in-github",
        "colab_type": "text"
      },
      "source": [
        "<a href=\"https://colab.research.google.com/github/augustoerik/teste-repositorio/blob/main/Atividade_Revis%C3%A3o_Python.ipynb\" target=\"_parent\"><img src=\"https://colab.research.google.com/assets/colab-badge.svg\" alt=\"Open In Colab\"/></a>"
      ]
    },
    {
      "cell_type": "markdown",
      "source": [
        "# Atividade Revisão Aprofundada Python\n",
        "\n",
        "\n",
        "\n",
        "## *   Responda as Questões.\n",
        "## *   Crie um Repositório no seu Github e depois copie o link para a Atividade no Moodle.\n",
        "## *   Valor 1,0 Ponto.\n",
        "## *   Pode fazer em grupo, mas a entrega é individual.\n",
        "\n",
        "### Objetivo: Consolidar e expandir o conhecimento, por meio da revisão e aplicação de conceitos básicos e avançados, visando melhorar a compreensão e habilidades na resolução de problemas complexos e na implementação de projetos mais sofisticados.\n"
      ],
      "metadata": {
        "id": "QKEUQkxKFgE9"
      }
    },
    {
      "cell_type": "markdown",
      "source": [
        "# Faça o Módulo 1 do curso:\n",
        "# [Link do Curso](https://skillsforall.com/course/python-essentials-1?userLang=pt-BR&instance_id=a4805395-087f-4467-a163-2c62bcd95764)\n",
        "# ☝ Pra quem não se inscreveu ainda ☝\n"
      ],
      "metadata": {
        "id": "5hXtoBtcaZe4"
      }
    },
    {
      "cell_type": "markdown",
      "source": [
        "# **Primeira Parte: Análise Conceitual do Python**"
      ],
      "metadata": {
        "id": "YYhkm9KgGc7i"
      }
    },
    {
      "cell_type": "markdown",
      "source": [
        "# **01-)** Em quais áreas (dentro de sistemas de informação) o Python é menos frequente ou praticamente ausente?"
      ],
      "metadata": {
        "id": "CcOlX0mWG0lJ"
      }
    },
    {
      "cell_type": "markdown",
      "source": [
        "> Resposta:sistemas embarcados,programação de dispositivos moveis,desenvolvimento de jogos,desenvolvimento de software de sistemas operacionais"
      ],
      "metadata": {
        "id": "BlLkX57oHolP"
      }
    },
    {
      "cell_type": "markdown",
      "source": [
        "# **02-)** Existem dois tipos principais de Python, chamados Python 2 e Python 3. Especifique cada um. E por que essas duas versões são incompátiveis entre si."
      ],
      "metadata": {
        "id": "6RsC7PQOHvjr"
      }
    },
    {
      "cell_type": "markdown",
      "source": [
        "> Resposta::Eles são incompatíveis entre si por que há uma mudança de sintaxe da linguagem, especialmente relacionadas ao tratamento de caracteres e strings significa que o código escrito para uma versão do python pode não funcionar outra."
      ],
      "metadata": {
        "id": "mYiUV5MiIZyG"
      }
    },
    {
      "cell_type": "markdown",
      "source": [
        "#**03-)** O Python é uma linguagem de programação interpretada ou compilada? Como funcionam as linguagens interpretada e compilada ?Quais as diferenças entre essas linguagens? "
      ],
      "metadata": {
        "id": "1FqYUlr5KYQD"
      }
    },
    {
      "cell_type": "markdown",
      "source": [
        "> Resposta:O python é uma linguagem interpretada, o que significa que o código fonte é executado diretamente pelo interpretador do python, linha por linha, sem a necessidade de compilação prévia\n",
        "\n",
        "\n",
        "Linguagens compiladas:As linguagens compiladas precisam ser transformadas em código de maquina antes de serem executadas. Isso é feito pelo compilador, que traduz o código fonte em linguagem de maquina para que possa ser executado pelo computador\n",
        "\n",
        "Linguagens interpretadas:as linguagens interpretadas ,por outro lado, não precisam ser compiladas  antes de serem executadas. O código fonte é executado diretamente pelo interpretador de linguagem.O intepretador lê cada linha de código fonte, a interpreta e a executa imediatamente"
      ],
      "metadata": {
        "id": "rWJgUxkMK97j"
      }
    },
    {
      "cell_type": "markdown",
      "source": [
        "#**04-)** O que é uma Sintaxe no contexto de linguagem de programação? Descreva a Sintaxe do Python."
      ],
      "metadata": {
        "id": "e1P1mgb8Ljz0"
      }
    },
    {
      "cell_type": "markdown",
      "source": [
        "> Resposta:Os elementos da linguagem de programação, como palavras-chaves, identificadores, operadores,símbolos e expressões, são usados em combinações especificas de acordo com a sintaxe da linguagem.Cada  linguagem de programação tem sua própria sintaxe, que deve ser seguida para que o programa seja compilado  ou interpretado corretamente"
      ],
      "metadata": {
        "id": "U7PfN0enL5W6"
      }
    },
    {
      "cell_type": "markdown",
      "source": [
        "#**05-)** O que é uma Semântica no contexto de linguagem de programação? Descreva a Semântica do Python."
      ],
      "metadata": {
        "id": "KVuTOib_MI0R"
      }
    },
    {
      "cell_type": "markdown",
      "source": [
        "> Resposta:Em python o tipo das variáveis é definido dinamicamente em tempo de execução, o que significa que o tipo de uma variável pode ser alterado durante a execução do programa.Por exemplo, uma  variável pode começar como uma string e depois ser alterada para um numero inteiro."
      ],
      "metadata": {
        "id": "tf98P3B4USed"
      }
    },
    {
      "cell_type": "markdown",
      "source": [
        "#06-) O que é Orientação a Objetos (OOP)?"
      ],
      "metadata": {
        "id": "2GZkls2KUUGv"
      }
    },
    {
      "cell_type": "markdown",
      "source": [
        "> Resposta:Programação orientada a objetos é um paradigma de programação baseado no conceito de \"objetos\", que podem conter dados na forma de campos, também conhecidos como atributos, e códigos, na forma de procedimentos, também conhecidos como métodos."
      ],
      "metadata": {
        "id": "XPR-xszqUbk1"
      }
    },
    {
      "cell_type": "markdown",
      "source": [
        "#**07-)** Por que se fala que Python é uma Linguagem naturalmente Orientada a Objetos (OOP)?"
      ],
      "metadata": {
        "id": "R-N3XHl1UuQa"
      }
    },
    {
      "cell_type": "markdown",
      "source": [
        "> Resposta:Python é considerada uma linguagem naturalmente orientada a objetos, permitindo uma estrutura de dados, foram projetadas para facilitar a programação orientada a objetos, permitindo que os programas criem objetos personalizados com atributos e comportamentos associados."
      ],
      "metadata": {
        "id": "T4O0blBEVlX7"
      }
    },
    {
      "cell_type": "markdown",
      "source": [
        "# **Segunda Parte: Sintaxe**\n",
        "\n",
        "\n"
      ],
      "metadata": {
        "id": "Ixe4OOOYLG2T"
      }
    },
    {
      "cell_type": "markdown",
      "source": [
        "#**08-)** Python adora Funções (def), exemplo:\n",
        "\n",
        "\n"
      ],
      "metadata": {
        "id": "EnmZIfWmLLE3"
      }
    },
    {
      "cell_type": "code",
      "execution_count": null,
      "metadata": {
        "colab": {
          "base_uri": "https://localhost:8080/"
        },
        "id": "aYEZweTyFa4A",
        "outputId": "e8573abc-bf19-4f53-9c65-4cf9cbd9391b"
      },
      "outputs": [
        {
          "output_type": "stream",
          "name": "stdout",
          "text": [
            "A área de um triângulo com base 5 e altura 10 é 25.0.\n"
          ]
        }
      ],
      "source": [
        "def calcula_area_triangulo(base, altura):\n",
        "    \"\"\" #Comentário de bloco de código \n",
        "    Calcula a área de um triângulo com base e altura dadas.\n",
        "\n",
        "    Argumentos:\n",
        "    base -- comprimento da base do triângulo \n",
        "    altura -- altura do triângulo \n",
        "\n",
        "    Retorno:\n",
        "    Retorna a área do triângulo \n",
        "    \"\"\"\n",
        "    area = (base * altura) / 2\n",
        "    return area\n",
        "\n",
        "# Exemplo de uso da função\n",
        "base = 5\n",
        "altura = 10\n",
        "resultado = calcula_area_triangulo(base, altura) #Passagem de Parâmetro\n",
        "\n",
        "# Exibe a área de um triângulo utilizando uma f-string formatada para incluir os valores das variáveis base, altura e resultado.\n",
        "# A f-string permite a inserção de variáveis diretamente no texto usando chaves {}.\n",
        "print(f\"A área de um triângulo com base {base} e altura {altura} é {resultado}.\")"
      ]
    },
    {
      "cell_type": "markdown",
      "source": [
        "# Agora crie uma função para calcular a área de uma esfera (se baseie na função acima):\n",
        "# A fórmula é: A = 4 . π . r²"
      ],
      "metadata": {
        "id": "l8nJIuhJYp1K"
      }
    },
    {
      "cell_type": "code",
      "source": [
        "import math"
      ],
      "metadata": {
        "id": "cYaQcz4nzcyC"
      },
      "execution_count": 4,
      "outputs": []
    },
    {
      "cell_type": "code",
      "source": [
        "# Resposta:import math\n",
        "\n",
        "def calcula_area_esfera(raio):\n",
        "   \n",
        "    area = 4 * math.pi * raio ** 2\n",
        "    return area\n",
        "\n",
        "# Exemplo de uso da função\n",
        "raio = 2\n",
        "resultado = calcula_area_esfera(raio)\n",
        "\n",
        "# Exibe a área da esfera utilizando uma f-string formatada para incluir o valor do raio e do resultado.\n",
        "print(f\"A área de uma esfera com raio {raio} é {resultado}.\")"
      ],
      "metadata": {
        "id": "75BzC4wYX5KS",
        "colab": {
          "base_uri": "https://localhost:8080/"
        },
        "outputId": "84e60586-1591-4de4-8f06-68e1972d2dbe"
      },
      "execution_count": 5,
      "outputs": [
        {
          "output_type": "stream",
          "name": "stdout",
          "text": [
            "A área de uma esfera com raio 2 é 50.26548245743669.\n"
          ]
        }
      ]
    },
    {
      "cell_type": "markdown",
      "source": [
        "## Tipos de dados\n",
        "\n",
        "Em Python, temos os seguintes tipos de **dados nativos** (também chamados de **embutidos**, do Inglês **built-in**):\n",
        "\n",
        "|  Categoria |   Nome  |         Descrição        |\n",
        "|:----------:|:-------:|:------------------------:|\n",
        "|  Numérica  |   int   |         Inteiros         |\n",
        "|            |  float  |      Ponto flutuante     |\n",
        "|            | complex |      Número complexo     |\n",
        "|            |   bool  | Boolean (True ou false)  |\n",
        "| Sequencial |   str   |   String de caracteres   |\n",
        "|            |   list  |           Lista          |\n",
        "|            |  tuple  |           Tupla          |\n",
        "|            |  range  |   Intervalo de valores   |\n",
        "|  Conjunto  |   set   |     Conjunto             |\n",
        "|            | frozenset |       Conjunto imutável                 |\n",
        "| Mapeamento |   dict  |     Dicionário           |\n",
        "| Nula       | NoneType | Valor nulo |"
      ],
      "metadata": {
        "id": "kkRqzNfxaToi"
      }
    },
    {
      "cell_type": "markdown",
      "source": [
        "#**09-)** Listas em Python são objetos mutáveis, o que significa que seus elementos podem ser modificados depois que a lista é criada. Exemplo:"
      ],
      "metadata": {
        "id": "2z5WdGP0a9Aq"
      }
    },
    {
      "cell_type": "code",
      "source": [
        "# Criação de uma lista com diferentes tipos de dados\n",
        "frutas = ['maçã', 'banana', 'laranja', 'abacaxi']\n",
        "\n",
        "# Adiciona um elemento ao final da lista\n",
        "frutas.append('manga')\n",
        "\n",
        "# Remove um elemento da lista pelo índice\n",
        "frutas.pop(3)  # Remove o elemento de índice 3 (número 5)\n",
        "\n",
        "# Acessa um elemento da lista pelo índice\n",
        "primeira_fruta = frutas[0]\n",
        "\n",
        "# Modifica um elemento da lista pelo índice\n",
        "frutas[1] = 'uva'\n",
        "\n",
        "# Insere um elemento em uma posição específica da lista\n",
        "frutas.insert(2, 'abacate')\n",
        "\n",
        "# Imprime a lista atualizada\n",
        "print(frutas)"
      ],
      "metadata": {
        "colab": {
          "base_uri": "https://localhost:8080/"
        },
        "id": "BBwv3xdsZD4p",
        "outputId": "fc3e1482-fde2-4c87-936e-1e93f644ba27"
      },
      "execution_count": null,
      "outputs": [
        {
          "output_type": "stream",
          "name": "stdout",
          "text": [
            "['maçã', 'uva', 'abacate', 'laranja', 'manga']\n"
          ]
        }
      ]
    },
    {
      "cell_type": "markdown",
      "source": [
        "# Crie uma função para adicionar três frutas na lista a seguir:\n",
        "### list = [abacate, laranja]\n",
        "### Utilize: def adicionar_frutas(lista, fruta1, fruta2, fruta3)\n",
        "### Obs: A lista também deve ser passada como parâmetro"
      ],
      "metadata": {
        "id": "Zpog7J_2bnfq"
      }
    },
    {
      "cell_type": "code",
      "source": [
        "#Resposta:\n",
        "def adicionar_frutas(lista, fruta1, fruta2, fruta3):\n",
        "    lista.append(fruta1)\n",
        "    lista.append(fruta2)\n",
        "    lista.append(fruta3)\n",
        "    \n",
        "minha_lista = ['abacate', 'laranja']\n",
        "adicionar_frutas(minha_lista, 'maçã', 'banana', 'morango')\n",
        "print(minha_lista) "
      ],
      "metadata": {
        "id": "B3SyZTtUxUX1",
        "colab": {
          "base_uri": "https://localhost:8080/"
        },
        "outputId": "04f0a72d-475d-4065-f194-370248169b38"
      },
      "execution_count": 6,
      "outputs": [
        {
          "output_type": "stream",
          "name": "stdout",
          "text": [
            "['abacate', 'laranja', 'maçã', 'banana', 'morango']\n"
          ]
        }
      ]
    },
    {
      "cell_type": "markdown",
      "source": [
        "#**10-)** Sobre o For,  a sintaxe básica é:"
      ],
      "metadata": {
        "id": "86rrk-1ovv9e"
      }
    },
    {
      "cell_type": "code",
      "source": [
        "# Lista de frutas\n",
        "frutas = ['maçã', 'banana', 'laranja', 'abacaxi']\n",
        "\n",
        "# Loop para exibir cada fruta da lista\n",
        "for fruta in frutas: #A variável fruta assume o valor de cada elemento da lista a cada iteração do loop\n",
        "    print(fruta)"
      ],
      "metadata": {
        "colab": {
          "base_uri": "https://localhost:8080/"
        },
        "id": "O3cIZcFlvvmO",
        "outputId": "3d8300d6-caab-419f-9e8b-98c143a9e0bf"
      },
      "execution_count": null,
      "outputs": [
        {
          "output_type": "stream",
          "name": "stdout",
          "text": [
            "maçã\n",
            "banana\n",
            "laranja\n",
            "abacaxi\n"
          ]
        }
      ]
    },
    {
      "cell_type": "markdown",
      "source": [
        "# Crie um pequeno programa utilizando for para incluir todos os elementos de uma lista em outra:\n",
        "# Por exemplo:\n",
        "### frutas = ['maçã', 'banana', 'laranja', 'abacaxi']\n",
        "### Inclua frutas2 = [Limão, Abacate, Pequi] na lista frutas"
      ],
      "metadata": {
        "id": "0GvV29wJwhYl"
      }
    },
    {
      "cell_type": "code",
      "source": [
        "#Reposta:\n",
        "frutas = ['maçã', 'banana', 'laranja', 'abacaxi']\n",
        "frutas2 = ['Limão', 'Abacate', 'Pequi']\n",
        "\n",
        "for fruta in frutas2:\n",
        "    frutas.append(fruta)\n",
        "\n",
        "print(frutas)"
      ],
      "metadata": {
        "id": "IywFeFNEbXNf",
        "colab": {
          "base_uri": "https://localhost:8080/"
        },
        "outputId": "f771fc1f-9ede-4447-fcb0-f73c14b50b86"
      },
      "execution_count": 7,
      "outputs": [
        {
          "output_type": "stream",
          "name": "stdout",
          "text": [
            "['maçã', 'banana', 'laranja', 'abacaxi', 'Limão', 'Abacate', 'Pequi']\n"
          ]
        }
      ]
    },
    {
      "cell_type": "markdown",
      "source": [
        "# **11-)** Exemplo de uso de Dicionário no Python:"
      ],
      "metadata": {
        "id": "H8MCkqFkxpG0"
      }
    },
    {
      "cell_type": "code",
      "source": [
        "# Criando um dicionário\n",
        "pessoa = {\n",
        "    \"nome\": \"João\",\n",
        "    \"idade\": 25,\n",
        "    \"cidade\": \"São Paulo\"\n",
        "}\n",
        "\n",
        "# Acessando valores do dicionário\n",
        "print(\"Nome:\", pessoa[\"nome\"])\n",
        "print(\"Idade:\", pessoa[\"idade\"])\n",
        "print(\"Cidade:\", pessoa[\"cidade\"])\n",
        "\n",
        "# Modificando valores do dicionário\n",
        "pessoa[\"idade\"] = 26\n",
        "pessoa[\"cidade\"] = \"Rio de Janeiro\"\n",
        "\n",
        "# Exibindo o dicionário atualizado\n",
        "print(\"Dicionário atualizado:\", pessoa)\n",
        "\n",
        "\n",
        "# Adicionando um novo elemento ao dicionário\n",
        "pessoa[\"profissão\"] = \"Engenheiro\"\n",
        "\n",
        "# Exibindo o dicionário com o novo elemento\n",
        "print(\"Dicionário com novo elemento:\", pessoa)\n",
        "\n",
        "# Removendo um elemento do dicionário\n",
        "del pessoa[\"cidade\"]\n",
        "\n",
        "# Exibindo o dicionário sem o elemento removido\n",
        "print(\"Dicionário sem elemento removido:\", pessoa)"
      ],
      "metadata": {
        "colab": {
          "base_uri": "https://localhost:8080/"
        },
        "id": "cZ-sL4XaxXEe",
        "outputId": "271b4266-0f36-4738-c079-af1869fddd10"
      },
      "execution_count": null,
      "outputs": [
        {
          "output_type": "stream",
          "name": "stdout",
          "text": [
            "Nome: João\n",
            "Idade: 25\n",
            "Cidade: São Paulo\n",
            "Dicionário atualizado: {'nome': 'João', 'idade': 26, 'cidade': 'Rio de Janeiro'}\n",
            "Idade:  dict_values(['João', 26, 'Rio de Janeiro'])\n",
            "Dicionário com novo elemento: {'nome': 'João', 'idade': 26, 'cidade': 'Rio de Janeiro', 'profissão': 'Engenheiro'}\n",
            "Dicionário sem elemento removido: {'nome': 'João', 'idade': 26, 'profissão': 'Engenheiro'}\n"
          ]
        }
      ]
    },
    {
      "cell_type": "markdown",
      "source": [
        "# O dicionário é uma estrutura de dados em Python que permite armazenar valores associados a chaves.  Veja o algoritmo a seguir e complete o que se pede:\n"
      ],
      "metadata": {
        "id": "G2QSqunEyB6E"
      }
    },
    {
      "cell_type": "code",
      "source": [
        "# Criando um dicionário de estoque de produtos\n",
        "estoque = {\n",
        "    \"produto1\": {\n",
        "        \"nome\": \"Camiseta\",\n",
        "        \"preco\": 29.90,\n",
        "        \"quantidade\": 50\n",
        "    },\n",
        "    \"produto2\": {\n",
        "        \"nome\": \"Calça Jeans\",\n",
        "        \"preco\": 89.90,\n",
        "        \"quantidade\": 20\n",
        "    },\n",
        "    \"produto3\": {\n",
        "        \"nome\": \"Tênis\",\n",
        "        \"preco\": 129.90,\n",
        "        \"quantidade\": 30\n",
        "    }\n",
        "}\n",
        "\n",
        "#Para exibir todo o dicionário:\n",
        "for produto, dados in estoque.items():# estoque.items(), é um método que acessa tanto a chave como o valor\n",
        "    print(f\"{dados['nome']}: Valor - R$ {dados['preco']} - Quantidade: {dados['quantidade']}\")"
      ],
      "metadata": {
        "colab": {
          "base_uri": "https://localhost:8080/"
        },
        "id": "zUrF4H6vx6H7",
        "outputId": "bf2b2762-216d-438b-9b28-483bfeeebaba"
      },
      "execution_count": 8,
      "outputs": [
        {
          "output_type": "stream",
          "name": "stdout",
          "text": [
            "Camiseta: Valor - R$ 29.9 - Quantidade: 50\n",
            "Calça Jeans: Valor - R$ 89.9 - Quantidade: 20\n",
            "Tênis: Valor - R$ 129.9 - Quantidade: 30\n"
          ]
        }
      ]
    },
    {
      "cell_type": "code",
      "source": [
        "# Para exibir todos os dados de apenas um produto:\n",
        "print(f\"Produto: {estoque['produto1']}\")"
      ],
      "metadata": {
        "colab": {
          "base_uri": "https://localhost:8080/"
        },
        "id": "n-lBt-6X9zqD",
        "outputId": "05276bd1-26d7-4816-fe6a-ffd791163ab3"
      },
      "execution_count": 9,
      "outputs": [
        {
          "output_type": "stream",
          "name": "stdout",
          "text": [
            "Produto: {'nome': 'Camiseta', 'preco': 29.9, 'quantidade': 50}\n"
          ]
        }
      ]
    },
    {
      "cell_type": "code",
      "source": [
        "# Para exibir o nome do produto 1\n",
        "print(f\"Produto: {estoque['produto1']['nome']}\")"
      ],
      "metadata": {
        "colab": {
          "base_uri": "https://localhost:8080/"
        },
        "id": "WAq9-r1j-bMG",
        "outputId": "815ef2dc-5a19-4ebe-866e-73cafb601006"
      },
      "execution_count": 10,
      "outputs": [
        {
          "output_type": "stream",
          "name": "stdout",
          "text": [
            "Produto: Camiseta\n"
          ]
        }
      ]
    },
    {
      "cell_type": "markdown",
      "source": [
        "# Crie um laço for para exibir todos os produtos e suas quantidades - Sem o valor"
      ],
      "metadata": {
        "id": "QGw3rjKF1gu-"
      }
    },
    {
      "cell_type": "code",
      "source": [
        "# Resposta:\n",
        "for produto, dados in estoque.items():\n",
        "    print(f\"{dados['nome']}: Quantidade - {dados['quantidade']}\")"
      ],
      "metadata": {
        "id": "DLMTP98zzehR",
        "colab": {
          "base_uri": "https://localhost:8080/"
        },
        "outputId": "a1198d97-db66-4aa9-aacd-8f8deeea5ed9"
      },
      "execution_count": 11,
      "outputs": [
        {
          "output_type": "stream",
          "name": "stdout",
          "text": [
            "Camiseta: Quantidade - 50\n",
            "Calça Jeans: Quantidade - 20\n",
            "Tênis: Quantidade - 30\n"
          ]
        }
      ]
    },
    {
      "cell_type": "markdown",
      "source": [
        "# Crie uma pequena função para exibir um produto com valor e quantidade.\n",
        "## Exemplo: def exibir_produto(nome_produto):\n",
        "\n",
        "\n"
      ],
      "metadata": {
        "id": "DKexNyyt2va3"
      }
    },
    {
      "cell_type": "code",
      "source": [
        "# Resposta\n",
        "def exibe_produto(produto, valor, quantidade):\n",
        "    print(f\"Produto: {produto}\")\n",
        "    print(f\"Valor: R$ {valor:.2f}\")\n",
        "    print(f\"Quantidade: {quantidade}\")"
      ],
      "metadata": {
        "id": "yWLs1ZlYzsel"
      },
      "execution_count": 12,
      "outputs": []
    },
    {
      "cell_type": "markdown",
      "source": [
        "# **12-)** A função map() é uma função embutida em Python que permite aplicar uma função a cada elemento de um iterável (como uma lista, um dicionário ou uma tupla), retornando um objeto iterável com os resultados do mapeamento. Veja um exemplo abaixo:"
      ],
      "metadata": {
        "id": "ThXBWYum-2n2"
      }
    },
    {
      "cell_type": "code",
      "source": [
        "# Lista de números\n",
        "numeros = [1, 2, 3, 4, 5]\n",
        "\n",
        "# Função para calcular o quadrado de um número\n",
        "def quadrado(x):\n",
        "    return x ** 2\n",
        "\n",
        "# Aplicação do mapeamento para obter uma nova lista com os quadrados dos números\n",
        "quadrados = list(map(quadrado, numeros))\n",
        "\n",
        "# Exibição dos quadrados dos números\n",
        "print(quadrados)"
      ],
      "metadata": {
        "colab": {
          "base_uri": "https://localhost:8080/"
        },
        "id": "ePyh3qXQ-19e",
        "outputId": "a96d81ac-36d2-4f66-adb6-64d5a45da831"
      },
      "execution_count": null,
      "outputs": [
        {
          "output_type": "stream",
          "name": "stdout",
          "text": [
            "[1, 4, 9, 16, 25]\n"
          ]
        }
      ]
    },
    {
      "cell_type": "markdown",
      "source": [
        "# Utilize a função map(), para obter o nome do mês a partir do número do mês:"
      ],
      "metadata": {
        "id": "ft_LjPeaCKuJ"
      }
    },
    {
      "cell_type": "code",
      "source": [
        "# Resposta:\n",
        "meses = {\n",
        "    1: 'Janeiro',\n",
        "    2: 'Fevereiro',\n",
        "    3: 'Março',\n",
        "    4: 'Abril',\n",
        "    5: 'Maio',\n",
        "    6: 'Junho',\n",
        "    7: 'Julho',\n",
        "    8: 'Agosto',\n",
        "    9: 'Setembro',\n",
        "    10: 'Outubro',\n",
        "    11: 'Novembro',\n",
        "    12: 'Dezembro'\n",
        "}\n",
        "\n",
        "\n",
        "numeros_meses = [1, 3, 5, 7, 8, 10, 12]\n",
        "\n",
        "\n",
        "nomes_meses = list(map(lambda mes: meses[mes], numeros_meses))\n",
        "\n",
        "\n",
        "print(nomes_meses)\n",
        "# Lista de números dos meses\n",
        "meses = [1, 2, 3, 4, 5, 6, 7, 8, 9, 10, 11, 12]"
      ],
      "metadata": {
        "id": "nE-By_Pu7mR6",
        "colab": {
          "base_uri": "https://localhost:8080/"
        },
        "outputId": "7fa5588a-ee33-47bc-dc57-01d776f02ce3"
      },
      "execution_count": 13,
      "outputs": [
        {
          "output_type": "stream",
          "name": "stdout",
          "text": [
            "['Janeiro', 'Março', 'Maio', 'Julho', 'Agosto', 'Outubro', 'Dezembro']\n"
          ]
        }
      ]
    },
    {
      "cell_type": "markdown",
      "source": [
        "# **Parte 3 - Análise de Dados**"
      ],
      "metadata": {
        "id": "Tv_3GB_sC2QD"
      }
    },
    {
      "cell_type": "markdown",
      "source": [
        "# Criação de dados aleatórios"
      ],
      "metadata": {
        "id": "ARFg4J9sFAvg"
      }
    },
    {
      "cell_type": "code",
      "source": [
        "import pandas as pd\n",
        "import numpy as np\n",
        "\n",
        "# Lista de produtos\n",
        "produtos = [\"Camiseta\", \"Calça Jeans\", \"Tênis\", \"Boné\", \"Bermuda\"]\n",
        "\n",
        "# Geração de dados aleatórios com numpy\n",
        "precos = np.random.uniform(low=10, high=100, size=len(produtos)).round(2)\n",
        "quantidades = np.random.randint(low=1, high=20, size=len(produtos))\n",
        "totais = precos * quantidades\n",
        "\n",
        "# Criação do DataFrame\n",
        "df = pd.DataFrame({\"Nome do produto\": produtos, \"Preço unitário\": precos, \"Quantidade\": quantidades, \"Total\": totais})\n",
        "\n",
        "# Exibição do DataFrame\n",
        "df"
      ],
      "metadata": {
        "colab": {
          "base_uri": "https://localhost:8080/",
          "height": 206
        },
        "id": "eudRlb_aCgst",
        "outputId": "452fa90b-a20d-4164-a7ca-527d03ed6b0d"
      },
      "execution_count": 15,
      "outputs": [
        {
          "output_type": "execute_result",
          "data": {
            "text/plain": [
              "  Nome do produto  Preço unitário  Quantidade   Total\n",
              "0        Camiseta           63.79           7  446.53\n",
              "1     Calça Jeans           17.34          11  190.74\n",
              "2           Tênis           77.38          11  851.18\n",
              "3            Boné           48.31          10  483.10\n",
              "4         Bermuda           21.66           5  108.30"
            ],
            "text/html": [
              "\n",
              "  <div id=\"df-c8a4565f-322d-48d7-a9cb-6268c5bd190f\">\n",
              "    <div class=\"colab-df-container\">\n",
              "      <div>\n",
              "<style scoped>\n",
              "    .dataframe tbody tr th:only-of-type {\n",
              "        vertical-align: middle;\n",
              "    }\n",
              "\n",
              "    .dataframe tbody tr th {\n",
              "        vertical-align: top;\n",
              "    }\n",
              "\n",
              "    .dataframe thead th {\n",
              "        text-align: right;\n",
              "    }\n",
              "</style>\n",
              "<table border=\"1\" class=\"dataframe\">\n",
              "  <thead>\n",
              "    <tr style=\"text-align: right;\">\n",
              "      <th></th>\n",
              "      <th>Nome do produto</th>\n",
              "      <th>Preço unitário</th>\n",
              "      <th>Quantidade</th>\n",
              "      <th>Total</th>\n",
              "    </tr>\n",
              "  </thead>\n",
              "  <tbody>\n",
              "    <tr>\n",
              "      <th>0</th>\n",
              "      <td>Camiseta</td>\n",
              "      <td>63.79</td>\n",
              "      <td>7</td>\n",
              "      <td>446.53</td>\n",
              "    </tr>\n",
              "    <tr>\n",
              "      <th>1</th>\n",
              "      <td>Calça Jeans</td>\n",
              "      <td>17.34</td>\n",
              "      <td>11</td>\n",
              "      <td>190.74</td>\n",
              "    </tr>\n",
              "    <tr>\n",
              "      <th>2</th>\n",
              "      <td>Tênis</td>\n",
              "      <td>77.38</td>\n",
              "      <td>11</td>\n",
              "      <td>851.18</td>\n",
              "    </tr>\n",
              "    <tr>\n",
              "      <th>3</th>\n",
              "      <td>Boné</td>\n",
              "      <td>48.31</td>\n",
              "      <td>10</td>\n",
              "      <td>483.10</td>\n",
              "    </tr>\n",
              "    <tr>\n",
              "      <th>4</th>\n",
              "      <td>Bermuda</td>\n",
              "      <td>21.66</td>\n",
              "      <td>5</td>\n",
              "      <td>108.30</td>\n",
              "    </tr>\n",
              "  </tbody>\n",
              "</table>\n",
              "</div>\n",
              "      <button class=\"colab-df-convert\" onclick=\"convertToInteractive('df-c8a4565f-322d-48d7-a9cb-6268c5bd190f')\"\n",
              "              title=\"Convert this dataframe to an interactive table.\"\n",
              "              style=\"display:none;\">\n",
              "        \n",
              "  <svg xmlns=\"http://www.w3.org/2000/svg\" height=\"24px\"viewBox=\"0 0 24 24\"\n",
              "       width=\"24px\">\n",
              "    <path d=\"M0 0h24v24H0V0z\" fill=\"none\"/>\n",
              "    <path d=\"M18.56 5.44l.94 2.06.94-2.06 2.06-.94-2.06-.94-.94-2.06-.94 2.06-2.06.94zm-11 1L8.5 8.5l.94-2.06 2.06-.94-2.06-.94L8.5 2.5l-.94 2.06-2.06.94zm10 10l.94 2.06.94-2.06 2.06-.94-2.06-.94-.94-2.06-.94 2.06-2.06.94z\"/><path d=\"M17.41 7.96l-1.37-1.37c-.4-.4-.92-.59-1.43-.59-.52 0-1.04.2-1.43.59L10.3 9.45l-7.72 7.72c-.78.78-.78 2.05 0 2.83L4 21.41c.39.39.9.59 1.41.59.51 0 1.02-.2 1.41-.59l7.78-7.78 2.81-2.81c.8-.78.8-2.07 0-2.86zM5.41 20L4 18.59l7.72-7.72 1.47 1.35L5.41 20z\"/>\n",
              "  </svg>\n",
              "      </button>\n",
              "      \n",
              "  <style>\n",
              "    .colab-df-container {\n",
              "      display:flex;\n",
              "      flex-wrap:wrap;\n",
              "      gap: 12px;\n",
              "    }\n",
              "\n",
              "    .colab-df-convert {\n",
              "      background-color: #E8F0FE;\n",
              "      border: none;\n",
              "      border-radius: 50%;\n",
              "      cursor: pointer;\n",
              "      display: none;\n",
              "      fill: #1967D2;\n",
              "      height: 32px;\n",
              "      padding: 0 0 0 0;\n",
              "      width: 32px;\n",
              "    }\n",
              "\n",
              "    .colab-df-convert:hover {\n",
              "      background-color: #E2EBFA;\n",
              "      box-shadow: 0px 1px 2px rgba(60, 64, 67, 0.3), 0px 1px 3px 1px rgba(60, 64, 67, 0.15);\n",
              "      fill: #174EA6;\n",
              "    }\n",
              "\n",
              "    [theme=dark] .colab-df-convert {\n",
              "      background-color: #3B4455;\n",
              "      fill: #D2E3FC;\n",
              "    }\n",
              "\n",
              "    [theme=dark] .colab-df-convert:hover {\n",
              "      background-color: #434B5C;\n",
              "      box-shadow: 0px 1px 3px 1px rgba(0, 0, 0, 0.15);\n",
              "      filter: drop-shadow(0px 1px 2px rgba(0, 0, 0, 0.3));\n",
              "      fill: #FFFFFF;\n",
              "    }\n",
              "  </style>\n",
              "\n",
              "      <script>\n",
              "        const buttonEl =\n",
              "          document.querySelector('#df-c8a4565f-322d-48d7-a9cb-6268c5bd190f button.colab-df-convert');\n",
              "        buttonEl.style.display =\n",
              "          google.colab.kernel.accessAllowed ? 'block' : 'none';\n",
              "\n",
              "        async function convertToInteractive(key) {\n",
              "          const element = document.querySelector('#df-c8a4565f-322d-48d7-a9cb-6268c5bd190f');\n",
              "          const dataTable =\n",
              "            await google.colab.kernel.invokeFunction('convertToInteractive',\n",
              "                                                     [key], {});\n",
              "          if (!dataTable) return;\n",
              "\n",
              "          const docLinkHtml = 'Like what you see? Visit the ' +\n",
              "            '<a target=\"_blank\" href=https://colab.research.google.com/notebooks/data_table.ipynb>data table notebook</a>'\n",
              "            + ' to learn more about interactive tables.';\n",
              "          element.innerHTML = '';\n",
              "          dataTable['output_type'] = 'display_data';\n",
              "          await google.colab.output.renderOutput(dataTable, element);\n",
              "          const docLink = document.createElement('div');\n",
              "          docLink.innerHTML = docLinkHtml;\n",
              "          element.appendChild(docLink);\n",
              "        }\n",
              "      </script>\n",
              "    </div>\n",
              "  </div>\n",
              "  "
            ]
          },
          "metadata": {},
          "execution_count": 15
        }
      ]
    },
    {
      "cell_type": "markdown",
      "source": [
        "# Principais comandos:\n",
        "\n",
        "df.describe()  # Estatísticas descritivas das colunas numéricas\n",
        "\n",
        "df.mean()      # Média das colunas numéricas\n",
        "\n",
        "df.std()      # Desvio padrão das colunas numéricas\n",
        "\n",
        "df.min()       # Menor valor de cada coluna\n",
        "\n",
        "df.max()      # Maior valor de cada coluna\n",
        "\n",
        "df.idxmin()   # Índice do menor valor de cada coluna\n",
        "\n",
        "df.idxmax()    # Índice do maior valor de cada coluna\n",
        "\n",
        "# Utilizando os comandos acima, responda:"
      ],
      "metadata": {
        "id": "Y0BbWqBqFGzi"
      }
    },
    {
      "cell_type": "code",
      "source": [
        "#Exemplo:\n",
        "# Para analisar o produto com maior valor\n",
        "df.loc[df[\"Preço unitário\"].idxmax()]\n"
      ],
      "metadata": {
        "colab": {
          "base_uri": "https://localhost:8080/"
        },
        "id": "8aFAUJnMInsx",
        "outputId": "10da3612-b391-4a8b-d0f4-c98a8a6027ce"
      },
      "execution_count": 16,
      "outputs": [
        {
          "output_type": "execute_result",
          "data": {
            "text/plain": [
              "Nome do produto     Tênis\n",
              "Preço unitário      77.38\n",
              "Quantidade             11\n",
              "Total              851.18\n",
              "Name: 2, dtype: object"
            ]
          },
          "metadata": {},
          "execution_count": 16
        }
      ]
    },
    {
      "cell_type": "markdown",
      "source": [
        "### a função loc[] do Pandas para obter os dados da linha que contém o maior valor na coluna \"Preço unitário\" do DataFrame df. A expressão df[\"Preço unitário\"].idxmax() retorna o índice da linha que contém o maior valor na coluna \"Preço unitário\", que é passado como argumento para a função loc[].\n",
        "\n",
        "### Então, a linha completa df.loc[df[\"Preço unitário\"].idxmax()] retorna um novo DataFrame que contém apenas a linha com o maior valor na coluna \"Preço unitário\". Esse novo DataFrame contém todas as colunas do DataFrame original df, ou seja, as colunas \"Nome do produto\", \"Preço unitário\", \"Quantidade\" e \"Total\"."
      ],
      "metadata": {
        "id": "2fEt9D_jJwgZ"
      }
    },
    {
      "cell_type": "markdown",
      "source": [
        "# **13-)** Qual é o produto com o maior preço unitário?"
      ],
      "metadata": {
        "id": "mbPWsxYtIDlm"
      }
    },
    {
      "cell_type": "code",
      "source": [
        "# Resposta:\n",
        "produto_mais_caro = df.loc[df['Preço unitário'].idxmax(), 'Nome do produto']\n",
        "print(f\"O produto com o maior valor unitário é {produto_mais_caro}.\")\n"
      ],
      "metadata": {
        "id": "jDw241hMFPl5",
        "colab": {
          "base_uri": "https://localhost:8080/"
        },
        "outputId": "b6abcae0-5fb0-486b-8d47-1f34b5527ff8"
      },
      "execution_count": 17,
      "outputs": [
        {
          "output_type": "stream",
          "name": "stdout",
          "text": [
            "O produto com o maior valor unitário é Tênis.\n"
          ]
        }
      ]
    },
    {
      "cell_type": "markdown",
      "source": [
        "# **14-)** Qual é o produto com o maior total de vendas?"
      ],
      "metadata": {
        "id": "I1Gk_q39KAv3"
      }
    },
    {
      "cell_type": "code",
      "source": [
        "# Resposta:\n",
        "produto_mais_vendido = df[\"Nome do produto\"].loc[df[\"Total\"].idxmax()]\n",
        "print(\"O produto mais vendido é:\", produto_mais_vendido)"
      ],
      "metadata": {
        "id": "tY1GYhYQFQMJ",
        "colab": {
          "base_uri": "https://localhost:8080/"
        },
        "outputId": "6840bc60-5770-409f-e176-b39c0375f3b0"
      },
      "execution_count": 18,
      "outputs": [
        {
          "output_type": "stream",
          "name": "stdout",
          "text": [
            "O produto mais vendido é: Tênis\n"
          ]
        }
      ]
    },
    {
      "cell_type": "markdown",
      "source": [
        "# **15-)** Qual é o produto mais vendido?"
      ],
      "metadata": {
        "id": "V9lqNOwTKZs8"
      }
    },
    {
      "cell_type": "code",
      "source": [
        "# Resposta: \n",
        "produto_mais_vendido = df.loc[df['Quantidade'].idxmax(), 'Nome do produto']\n",
        "print(\"O produto mais vendido é:\", produto_mais_vendido)\n"
      ],
      "metadata": {
        "id": "ebggOLi2KcO5",
        "colab": {
          "base_uri": "https://localhost:8080/"
        },
        "outputId": "22c44f4a-1bce-43fb-d671-29db13b2f62f"
      },
      "execution_count": 19,
      "outputs": [
        {
          "output_type": "stream",
          "name": "stdout",
          "text": [
            "O produto mais vendido é: Calça Jeans\n"
          ]
        }
      ]
    },
    {
      "cell_type": "markdown",
      "source": [
        "# **16-)** Qual é o total de vendas da loja?"
      ],
      "metadata": {
        "id": "-3HnIIuBKW9C"
      }
    },
    {
      "cell_type": "code",
      "source": [
        "# Resposta: \n",
        "total_vendas = df[\"Total\"].sum()\n",
        "print(f\"O total de vendas da loja foi de R$ {total_vendas:.2f}\")\n"
      ],
      "metadata": {
        "id": "ibs7VKbPKlPT",
        "colab": {
          "base_uri": "https://localhost:8080/"
        },
        "outputId": "239c3627-1808-452b-b851-6423170c99d2"
      },
      "execution_count": 20,
      "outputs": [
        {
          "output_type": "stream",
          "name": "stdout",
          "text": [
            "O total de vendas da loja foi de R$ 2079.85\n"
          ]
        }
      ]
    },
    {
      "cell_type": "markdown",
      "source": [
        "# **17-)** Qual é o preço médio dos produtos vendidos?"
      ],
      "metadata": {
        "id": "CuqIfmVGKm1b"
      }
    },
    {
      "cell_type": "code",
      "source": [
        "# Resposta: \n",
        "preco_medio = df[\"Preço unitário\"].mean()\n",
        "print(f\"O preço médio dos produtos vendidos é de R$ {preco_medio:.2f}\")\n"
      ],
      "metadata": {
        "id": "uT6dsAdzKrDR",
        "colab": {
          "base_uri": "https://localhost:8080/"
        },
        "outputId": "eb12233f-9478-49e6-9b86-5aaed5786445"
      },
      "execution_count": 21,
      "outputs": [
        {
          "output_type": "stream",
          "name": "stdout",
          "text": [
            "O preço médio dos produtos vendidos é de R$ 45.70\n"
          ]
        }
      ]
    },
    {
      "cell_type": "markdown",
      "source": [
        "# **18-)** Crie um nova coluna, chamada \"total com desconto\" e aplique um desconto de 10% do valor total."
      ],
      "metadata": {
        "id": "juuldidKLG5H"
      }
    },
    {
      "cell_type": "code",
      "source": [
        "# Resposta:\n",
        "df[\"Total com desconto\"] = df[\"Total\"] * 0.9\n"
      ],
      "metadata": {
        "id": "NOzgUzOlKsGw"
      },
      "execution_count": 22,
      "outputs": []
    },
    {
      "cell_type": "markdown",
      "source": [
        "# Criação de um nova coluna com indicação de produtos em promoção.\n",
        "# Para isso "
      ],
      "metadata": {
        "id": "S1jfiV5xVLfJ"
      }
    },
    {
      "cell_type": "code",
      "source": [
        "# A função np.where() recebe três argumentos: uma condição booleana, \n",
        "# um valor para quando a condição for verdadeira e um valor para quando \n",
        "# a condição for falsa.\n",
        "df[\"Promoção\"] = np.where(df[\"Preço unitário\"] > 50, \"Sim\", \"Não\")\n"
      ],
      "metadata": {
        "id": "CG1B6Gv_VYpC"
      },
      "execution_count": 23,
      "outputs": []
    },
    {
      "cell_type": "code",
      "source": [
        "df"
      ],
      "metadata": {
        "colab": {
          "base_uri": "https://localhost:8080/",
          "height": 206
        },
        "id": "jtW-nIHSVcx-",
        "outputId": "17c3eb63-3d5e-4ea0-d902-f4c100b353d5"
      },
      "execution_count": 24,
      "outputs": [
        {
          "output_type": "execute_result",
          "data": {
            "text/plain": [
              "  Nome do produto  Preço unitário  Quantidade   Total  Total com desconto  \\\n",
              "0        Camiseta           63.79           7  446.53             401.877   \n",
              "1     Calça Jeans           17.34          11  190.74             171.666   \n",
              "2           Tênis           77.38          11  851.18             766.062   \n",
              "3            Boné           48.31          10  483.10             434.790   \n",
              "4         Bermuda           21.66           5  108.30              97.470   \n",
              "\n",
              "  Promoção  \n",
              "0      Sim  \n",
              "1      Não  \n",
              "2      Sim  \n",
              "3      Não  \n",
              "4      Não  "
            ],
            "text/html": [
              "\n",
              "  <div id=\"df-86fe2078-7d7f-4a9b-82f6-0964fe67e613\">\n",
              "    <div class=\"colab-df-container\">\n",
              "      <div>\n",
              "<style scoped>\n",
              "    .dataframe tbody tr th:only-of-type {\n",
              "        vertical-align: middle;\n",
              "    }\n",
              "\n",
              "    .dataframe tbody tr th {\n",
              "        vertical-align: top;\n",
              "    }\n",
              "\n",
              "    .dataframe thead th {\n",
              "        text-align: right;\n",
              "    }\n",
              "</style>\n",
              "<table border=\"1\" class=\"dataframe\">\n",
              "  <thead>\n",
              "    <tr style=\"text-align: right;\">\n",
              "      <th></th>\n",
              "      <th>Nome do produto</th>\n",
              "      <th>Preço unitário</th>\n",
              "      <th>Quantidade</th>\n",
              "      <th>Total</th>\n",
              "      <th>Total com desconto</th>\n",
              "      <th>Promoção</th>\n",
              "    </tr>\n",
              "  </thead>\n",
              "  <tbody>\n",
              "    <tr>\n",
              "      <th>0</th>\n",
              "      <td>Camiseta</td>\n",
              "      <td>63.79</td>\n",
              "      <td>7</td>\n",
              "      <td>446.53</td>\n",
              "      <td>401.877</td>\n",
              "      <td>Sim</td>\n",
              "    </tr>\n",
              "    <tr>\n",
              "      <th>1</th>\n",
              "      <td>Calça Jeans</td>\n",
              "      <td>17.34</td>\n",
              "      <td>11</td>\n",
              "      <td>190.74</td>\n",
              "      <td>171.666</td>\n",
              "      <td>Não</td>\n",
              "    </tr>\n",
              "    <tr>\n",
              "      <th>2</th>\n",
              "      <td>Tênis</td>\n",
              "      <td>77.38</td>\n",
              "      <td>11</td>\n",
              "      <td>851.18</td>\n",
              "      <td>766.062</td>\n",
              "      <td>Sim</td>\n",
              "    </tr>\n",
              "    <tr>\n",
              "      <th>3</th>\n",
              "      <td>Boné</td>\n",
              "      <td>48.31</td>\n",
              "      <td>10</td>\n",
              "      <td>483.10</td>\n",
              "      <td>434.790</td>\n",
              "      <td>Não</td>\n",
              "    </tr>\n",
              "    <tr>\n",
              "      <th>4</th>\n",
              "      <td>Bermuda</td>\n",
              "      <td>21.66</td>\n",
              "      <td>5</td>\n",
              "      <td>108.30</td>\n",
              "      <td>97.470</td>\n",
              "      <td>Não</td>\n",
              "    </tr>\n",
              "  </tbody>\n",
              "</table>\n",
              "</div>\n",
              "      <button class=\"colab-df-convert\" onclick=\"convertToInteractive('df-86fe2078-7d7f-4a9b-82f6-0964fe67e613')\"\n",
              "              title=\"Convert this dataframe to an interactive table.\"\n",
              "              style=\"display:none;\">\n",
              "        \n",
              "  <svg xmlns=\"http://www.w3.org/2000/svg\" height=\"24px\"viewBox=\"0 0 24 24\"\n",
              "       width=\"24px\">\n",
              "    <path d=\"M0 0h24v24H0V0z\" fill=\"none\"/>\n",
              "    <path d=\"M18.56 5.44l.94 2.06.94-2.06 2.06-.94-2.06-.94-.94-2.06-.94 2.06-2.06.94zm-11 1L8.5 8.5l.94-2.06 2.06-.94-2.06-.94L8.5 2.5l-.94 2.06-2.06.94zm10 10l.94 2.06.94-2.06 2.06-.94-2.06-.94-.94-2.06-.94 2.06-2.06.94z\"/><path d=\"M17.41 7.96l-1.37-1.37c-.4-.4-.92-.59-1.43-.59-.52 0-1.04.2-1.43.59L10.3 9.45l-7.72 7.72c-.78.78-.78 2.05 0 2.83L4 21.41c.39.39.9.59 1.41.59.51 0 1.02-.2 1.41-.59l7.78-7.78 2.81-2.81c.8-.78.8-2.07 0-2.86zM5.41 20L4 18.59l7.72-7.72 1.47 1.35L5.41 20z\"/>\n",
              "  </svg>\n",
              "      </button>\n",
              "      \n",
              "  <style>\n",
              "    .colab-df-container {\n",
              "      display:flex;\n",
              "      flex-wrap:wrap;\n",
              "      gap: 12px;\n",
              "    }\n",
              "\n",
              "    .colab-df-convert {\n",
              "      background-color: #E8F0FE;\n",
              "      border: none;\n",
              "      border-radius: 50%;\n",
              "      cursor: pointer;\n",
              "      display: none;\n",
              "      fill: #1967D2;\n",
              "      height: 32px;\n",
              "      padding: 0 0 0 0;\n",
              "      width: 32px;\n",
              "    }\n",
              "\n",
              "    .colab-df-convert:hover {\n",
              "      background-color: #E2EBFA;\n",
              "      box-shadow: 0px 1px 2px rgba(60, 64, 67, 0.3), 0px 1px 3px 1px rgba(60, 64, 67, 0.15);\n",
              "      fill: #174EA6;\n",
              "    }\n",
              "\n",
              "    [theme=dark] .colab-df-convert {\n",
              "      background-color: #3B4455;\n",
              "      fill: #D2E3FC;\n",
              "    }\n",
              "\n",
              "    [theme=dark] .colab-df-convert:hover {\n",
              "      background-color: #434B5C;\n",
              "      box-shadow: 0px 1px 3px 1px rgba(0, 0, 0, 0.15);\n",
              "      filter: drop-shadow(0px 1px 2px rgba(0, 0, 0, 0.3));\n",
              "      fill: #FFFFFF;\n",
              "    }\n",
              "  </style>\n",
              "\n",
              "      <script>\n",
              "        const buttonEl =\n",
              "          document.querySelector('#df-86fe2078-7d7f-4a9b-82f6-0964fe67e613 button.colab-df-convert');\n",
              "        buttonEl.style.display =\n",
              "          google.colab.kernel.accessAllowed ? 'block' : 'none';\n",
              "\n",
              "        async function convertToInteractive(key) {\n",
              "          const element = document.querySelector('#df-86fe2078-7d7f-4a9b-82f6-0964fe67e613');\n",
              "          const dataTable =\n",
              "            await google.colab.kernel.invokeFunction('convertToInteractive',\n",
              "                                                     [key], {});\n",
              "          if (!dataTable) return;\n",
              "\n",
              "          const docLinkHtml = 'Like what you see? Visit the ' +\n",
              "            '<a target=\"_blank\" href=https://colab.research.google.com/notebooks/data_table.ipynb>data table notebook</a>'\n",
              "            + ' to learn more about interactive tables.';\n",
              "          element.innerHTML = '';\n",
              "          dataTable['output_type'] = 'display_data';\n",
              "          await google.colab.output.renderOutput(dataTable, element);\n",
              "          const docLink = document.createElement('div');\n",
              "          docLink.innerHTML = docLinkHtml;\n",
              "          element.appendChild(docLink);\n",
              "        }\n",
              "      </script>\n",
              "    </div>\n",
              "  </div>\n",
              "  "
            ]
          },
          "metadata": {},
          "execution_count": 24
        }
      ]
    },
    {
      "cell_type": "markdown",
      "source": [
        "#**19-)** Crie um gráfico utilizando o seaborn de um gráfico de barras com os totais por produto:"
      ],
      "metadata": {
        "id": "8apr3NWNW1ud"
      }
    },
    {
      "cell_type": "code",
      "source": [
        "#Resposta:\n",
        "\n",
        "import seaborn as sns\n",
        "import pandas as pd\n",
        "import seaborn as sns\n",
        "\n",
        "sns.barplot(x=\"Nome do produto\", y=\"Total\", data=df)\n",
        "import pandas as pd\n",
        "import seaborn as sns\n",
        "\n",
        "# Criar o gráfico de barras com o Seaborn\n",
        "sns.barplot(x=\"Nome do produto\", y=\"Total\", data=df)\n",
        "\n",
        "\n"
      ],
      "metadata": {
        "id": "48aqarGcWhEV",
        "colab": {
          "base_uri": "https://localhost:8080/",
          "height": 466
        },
        "outputId": "6a93a985-d75b-43e4-e1fa-f119b773fd37"
      },
      "execution_count": 31,
      "outputs": [
        {
          "output_type": "execute_result",
          "data": {
            "text/plain": [
              "<Axes: xlabel='Nome do produto', ylabel='Total'>"
            ]
          },
          "metadata": {},
          "execution_count": 31
        },
        {
          "output_type": "display_data",
          "data": {
            "text/plain": [
              "<Figure size 640x480 with 1 Axes>"
            ],
            "image/png": "[encoded data removed]"
          },
          "metadata": {}
        }
      ]
    },
    {
      "cell_type": "markdown",
      "source": [
        "#**20-)** Crie um gráfico utilizando o seaborn de um gráfico de barras com os totais por promoção.\n",
        "# De acordo com o gráfico a seguir:\n",
        "![image.png](data:image/png;base64,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)"
      ],
      "metadata": {
        "id": "qHralvBTWDok"
      }
    },
    {
      "cell_type": "code",
      "source": [
        "# Resposta\n",
        "import seaborn as sns\n",
        "import matplotlib.pyplot as plt\n",
        "\n",
        "\n",
        "\n",
        "# Criando o gráfico de barras\n",
        "sns.barplot(x=\"Promoção\", y=\"Total\", data=df)\n",
        "\n",
        "# Definindo o título do gráfico\n",
        "plt.title(\"Totais por promoção\")\n",
        "\n",
        "# Exibindo o gráfico\n",
        "plt.show()\n",
        "\n"
      ],
      "metadata": {
        "id": "qxYu5CKIZTcg",
        "colab": {
          "base_uri": "https://localhost:8080/",
          "height": 472
        },
        "outputId": "29b74bbf-ea1d-4516-82d6-6ff078b44439"
      },
      "execution_count": 40,
      "outputs": [
        {
          "output_type": "display_data",
          "data": {
            "text/plain": [
              "<Figure size 640x480 with 1 Axes>"
            ],
            "image/png": "[encoded data removed]"
          },
          "metadata": {}
        }
      ]
    },
    {
      "cell_type": "markdown",
      "source": [
        "#**21-)** Ao Final crie um arquivo SQL dos dados criados e manipulados em que possa ser carregado pelo Postgree:"
      ],
      "metadata": {
        "id": "w-TucJWhaDkI"
      }
    },
    {
      "cell_type": "code",
      "source": [
        "\n"
      ],
      "metadata": {
        "id": "OeJGZnXtaTzW"
      },
      "execution_count": 45,
      "outputs": []
    }
  ]
}